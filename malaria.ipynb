{
 "cells": [
  {
   "cell_type": "markdown",
   "metadata": {},
   "source": [
    "# Malaria Classifier with CNN"
   ]
  },
  {
   "cell_type": "markdown",
   "metadata": {},
   "source": [
    "## Imports"
   ]
  },
  {
   "cell_type": "code",
   "execution_count": null,
   "metadata": {},
   "outputs": [],
   "source": [
    "# Import basic libraries\n",
    "import numpy as np\n",
    "import pandas as pd\n",
    "import matplotlib.pyplot as plt\n",
    "%matplotlib inline\n",
    "\n",
    "# Import modules for data processing \n",
    "import os\n",
    "import cv2\n",
    "from glob import glob\n",
    "from sklearn.model_selection import train_test_split\n",
    "from keras.utils import to_categorical\n",
    "\n",
    "# Import modules to build neural network\n",
    "from keras.models import Sequential\n",
    "from keras.layers import Conv2D, MaxPooling2D, GlobalAveragePooling2D\n",
    "from keras.layers import Dropout,Dense\n",
    "from keras.layers.normalization import BatchNormalization\n",
    "\n",
    "# Import module to train neural network\n",
    "from keras.callbacks import ModelCheckpoint\n",
    "\n",
    "# Import modules for evaluation metrics \n",
    "from sklearn.metrics import classification_report\n",
    "from sklearn.metrics import fbeta_score\n",
    "\n",
    "# Import module to save and load trained model\n",
    "from keras.models import load_model"
   ]
  },
  {
   "cell_type": "markdown",
   "metadata": {},
   "source": [
    "## Process Data"
   ]
  },
  {
   "cell_type": "markdown",
   "metadata": {},
   "source": [
    "### Visualize Data"
   ]
  },
  {
   "cell_type": "code",
   "execution_count": null,
   "metadata": {},
   "outputs": [],
   "source": [
    "# Load directory's path into list variables for visualization\n",
    "parasitized_dir = os.listdir('Data/Parasitized/')\n",
    "print('Number of images in Parasitized folder:', len(parasitized_dir))\n",
    "print('Examples of the path loaded:\\n', parasitized_dir[:3])\n",
    "\n",
    "uninfected_dir = os.listdir('Data/Uninfected/')\n",
    "print('\\nNumber of images in Uninfected folder:', len(uninfected_dir))\n",
    "print('Examples of the path loaded:\\n', uninfected_dir[:3])"
   ]
  },
  {
   "cell_type": "code",
   "execution_count": null,
   "metadata": {},
   "outputs": [],
   "source": [
    "# Uninfected Data Visualization\n",
    "plt.figure(figsize = (15, 15))\n",
    "for i in range(4):\n",
    "    plt.subplot(1, 4, i + 1)\n",
    "    img = cv2.imread('Data/Uninfected' + \"/\" + uninfected_dir[i])\n",
    "    print('Original shape:', img.shape)\n",
    "    img_resize = cv2.resize(img, (224, 224))\n",
    "    plt.imshow(img_resize)\n",
    "    plt.title('UNINFECTED')\n",
    "    plt.tight_layout()\n",
    "plt.show()\n",
    "print('Images has been reshape to 224 x 224')"
   ]
  },
  {
   "cell_type": "code",
   "execution_count": null,
   "metadata": {},
   "outputs": [],
   "source": [
    "# Parasitized Data Visualization\n",
    "plt.figure(figsize = (15, 15))\n",
    "for i in range(4):\n",
    "    plt.subplot(1, 4, i + 1)\n",
    "    img = cv2.imread('Data/Parasitized' + \"/\" + parasitized_dir[i])\n",
    "    print('Original shape:', img.shape)\n",
    "    img_resize = cv2.resize(img, (224, 224))\n",
    "    plt.imshow(img_resize)\n",
    "    plt.title('PARASITIZED')\n",
    "    plt.tight_layout()\n",
    "plt.show()\n",
    "print('Images has been reshape to 224 x 224')"
   ]
  },
  {
   "cell_type": "markdown",
   "metadata": {},
   "source": [
    "### Load data to process"
   ]
  },
  {
   "cell_type": "code",
   "execution_count": null,
   "metadata": {},
   "outputs": [],
   "source": [
    "# Load images with glob module\n",
    "uninfected_data = glob('Data/Uninfected/*.png', recursive=True)\n",
    "parasitized_data = glob('Data/Parasitized/*.png', recursive=True)\n",
    "\n",
    "print(len(uninfected_data))\n",
    "print(len(parasitized_data))\n",
    "print(type(uninfected_data))"
   ]
  },
  {
   "cell_type": "code",
   "execution_count": null,
   "metadata": {},
   "outputs": [],
   "source": [
    "# Create empty list to hold images processed\n",
    "features = []\n",
    "labels = []\n",
    "\n",
    "# Loop into the images and resize, convert them into matrix (ndarray type)\n",
    "for img in uninfected_data:\n",
    "    image = cv2.imread(img)\n",
    "    image_resized = cv2.resize(image, (224, 224), interpolation=cv2.INTER_CUBIC)\n",
    "    features.append(image_resized)\n",
    "    labels.append(0)\n",
    "    \n",
    "for img in parasitized_data:\n",
    "    image = cv2.imread(img)\n",
    "    image_resized = cv2.resize(image, (224, 224), interpolation=cv2.INTER_CUBIC)\n",
    "    features.append(image_resized)\n",
    "    labels.append(1)\n",
    "\n",
    "# Convert images matrix into array\n",
    "features = np.array(features)\n",
    "labels = np.array(labels)"
   ]
  },
  {
   "cell_type": "code",
   "execution_count": null,
   "metadata": {},
   "outputs": [],
   "source": [
    "# Split data into training and testing with train_test_split module\n",
    "X_train, X_test, y_train, y_test = train_test_split(features, labels, test_size = 0.25, random_state = 42)\n",
    "\n",
    "# Convert testing sets into binary category\n",
    "y_train = to_categorical(y_train, num_classes = 2)\n",
    "y_test = to_categorical(y_test, num_classes = 2)"
   ]
  },
  {
   "cell_type": "markdown",
   "metadata": {},
   "source": [
    "## Build Model"
   ]
  },
  {
   "cell_type": "code",
   "execution_count": null,
   "metadata": {},
   "outputs": [],
   "source": [
    "# Define model's architecture\n",
    "model = Sequential()\n",
    "\n",
    "model.add(Conv2D(filters=16, kernel_size=2, padding='same', activation='relu', input_shape=(224, 224, 3)))\n",
    "model.add(MaxPooling2D(pool_size=2))\n",
    "model.add(BatchNormalization())\n",
    "model.add(Dropout(0.2))\n",
    "\n",
    "model.add(Conv2D(filters=32, kernel_size=2, padding='same', activation='relu'))\n",
    "model.add(MaxPooling2D(pool_size=2))\n",
    "model.add(BatchNormalization())\n",
    "model.add(Dropout(0.2))\n",
    "\n",
    "model.add(Conv2D(filters=64, kernel_size=2, padding='same', activation='relu'))\n",
    "model.add(MaxPooling2D(pool_size=2))\n",
    "model.add(BatchNormalization())\n",
    "model.add(Dropout(0.2))\n",
    "\n",
    "model.add(Conv2D(filters=128, kernel_size=2, padding='same', activation='relu'))\n",
    "model.add(MaxPooling2D(pool_size=2))\n",
    "model.add(BatchNormalization())\n",
    "model.add(Dropout(0.2))\n",
    "\n",
    "model.add(GlobalAveragePooling2D())\n",
    "\n",
    "model.add(Dense(500, activation='relu'))\n",
    "\n",
    "model.add(Dense(2,activation='softmax'))\n",
    "\n",
    "# Compile optimizer, loss and metrics\n",
    "model.compile(optimizer='adam', loss = 'categorical_crossentropy', metrics=['accuracy'])"
   ]
  },
  {
   "cell_type": "code",
   "execution_count": null,
   "metadata": {},
   "outputs": [],
   "source": [
    "# Display model's architecture\n",
    "model.summary()"
   ]
  },
  {
   "cell_type": "markdown",
   "metadata": {},
   "source": [
    "## Train Model"
   ]
  },
  {
   "cell_type": "code",
   "execution_count": null,
   "metadata": {
    "scrolled": false
   },
   "outputs": [],
   "source": [
    "# Specify the number of epochs that you would like to use to train the model.\n",
    "epochs = 30\n",
    "\n",
    "# Save model checkpoints\n",
    "checkpointer = ModelCheckpoint(filepath='Saved_models/weights.best.from_scratch.hdf5', \n",
    "                               verbose=1, save_best_only=True)\n",
    "\n",
    "# Train neural network\n",
    "model.fit(X_train, y_train, validation_split=0.2, epochs=epochs, batch_size=32,\n",
    "          callbacks=[checkpointer], verbose=1)"
   ]
  },
  {
   "cell_type": "markdown",
   "metadata": {},
   "source": [
    "## Test Model"
   ]
  },
  {
   "cell_type": "code",
   "execution_count": null,
   "metadata": {},
   "outputs": [],
   "source": [
    "# Calculate test accuracy with the test datasets\n",
    "accuracy = model.evaluate(X_test, y_test, verbose=1)\n",
    "print('\\nTest Accuracy:', accuracy[1])"
   ]
  },
  {
   "cell_type": "markdown",
   "metadata": {},
   "source": [
    "### Metric Evaluation"
   ]
  },
  {
   "cell_type": "code",
   "execution_count": null,
   "metadata": {},
   "outputs": [],
   "source": [
    "# Calculate pretiction on the test dataset\n",
    "y_pred = model.predict(X_test)"
   ]
  },
  {
   "cell_type": "code",
   "execution_count": null,
   "metadata": {},
   "outputs": [],
   "source": [
    "# Print classification report with Scikit-learn library\n",
    "print(classification_report(np.argmax(y_test, axis = 1), np.argmax(y_pred, axis = 1)))"
   ]
  },
  {
   "cell_type": "markdown",
   "metadata": {},
   "source": [
    "### Precision metric evaluation with F-beta Score"
   ]
  },
  {
   "cell_type": "code",
   "execution_count": null,
   "metadata": {},
   "outputs": [],
   "source": [
    "# Calculate F-beta score with Scikit-learn library\n",
    "fbeta_score(np.argmax(y_test, axis = 1), np.argmax(y_pred, axis=1), beta=0.92)"
   ]
  },
  {
   "cell_type": "markdown",
   "metadata": {},
   "source": [
    "## Save Model"
   ]
  },
  {
   "cell_type": "code",
   "execution_count": null,
   "metadata": {},
   "outputs": [],
   "source": [
    "# Save neural network moodel\n",
    "model.save('Saved_models/malaria_cnn.h5')"
   ]
  },
  {
   "cell_type": "markdown",
   "metadata": {},
   "source": [
    "## Sanity Check"
   ]
  },
  {
   "cell_type": "code",
   "execution_count": 1,
   "metadata": {},
   "outputs": [
    {
     "name": "stderr",
     "output_type": "stream",
     "text": [
      "Using TensorFlow backend.\n"
     ]
    }
   ],
   "source": [
    "# Imports\n",
    "import numpy as np\n",
    "import cv2\n",
    "from keras.models import load_model\n",
    "from keras.preprocessing import image    "
   ]
  },
  {
   "cell_type": "code",
   "execution_count": 2,
   "metadata": {},
   "outputs": [],
   "source": [
    "# Load neural network model saved\n",
    "model = load_model('Saved_models/malaria_cnn.h5')"
   ]
  },
  {
   "cell_type": "code",
   "execution_count": 3,
   "metadata": {},
   "outputs": [],
   "source": [
    "# Input test 1, 2 - Infected\n",
    "input_image1 = 'Data/Input-Data/Infected/infected2.png'\n",
    "input_image2 = 'Data/Input-Data/Infected/infected4.png'\n",
    "\n",
    "# Input test 3, 4 - Healthy\n",
    "input_image3 = 'Data/Input-Data/Healthy/healthy3.png'\n",
    "input_image4 = 'Data/Input-Data/Healthy/healthy5.png'"
   ]
  },
  {
   "cell_type": "code",
   "execution_count": 4,
   "metadata": {},
   "outputs": [],
   "source": [
    "def path_to_tensor(img_path):\n",
    "    \"\"\"Convert an image into 4D tensor.\"\"\"\n",
    "    \n",
    "    # Load image path input into a (224, 224) image\n",
    "    img = image.load_img(img_path, target_size=(224, 224))\n",
    "    \n",
    "    # Convert the image into a 3D tensor image (224, 224, 3)\n",
    "    x = image.img_to_array(img)\n",
    "    \n",
    "    # Convert 3D tensor to 4D tensor (1, 224, 224, 3) and return\n",
    "    return np.expand_dims(x, axis=0)"
   ]
  },
  {
   "cell_type": "code",
   "execution_count": 5,
   "metadata": {},
   "outputs": [
    {
     "name": "stdout",
     "output_type": "stream",
     "text": [
      "    Uninfected  Parasitized\n",
      " [[  3.43399151e-04   9.99656558e-01]]\n",
      "\n",
      "The image is 99.97% predicted to be infected\n"
     ]
    }
   ],
   "source": [
    "# Calculate prediction on the test 1\n",
    "test1 = path_to_tensor(input_image1)\n",
    "y_pred1 = model.predict(test1)\n",
    "\n",
    "# Print the prediction of both classes (Uninfected, Parasitized)\n",
    "print('    Uninfected  Parasitized\\n', y_pred1)\n",
    "\n",
    "# Print the infected percentage prediction\n",
    "infected_perc = round(y_pred1.tolist()[0][1] * 100, 2)\n",
    "print('\\nThe image is {}% predicted to be infected'.format(infected_perc))"
   ]
  },
  {
   "cell_type": "code",
   "execution_count": 6,
   "metadata": {},
   "outputs": [
    {
     "name": "stdout",
     "output_type": "stream",
     "text": [
      "    Uninfected  Parasitized\n",
      " [[ 0.10112928  0.89887077]]\n",
      "\n",
      "The image is 89.89% predicted to be infected\n"
     ]
    }
   ],
   "source": [
    "# Calculate prediction on the test 1\n",
    "test2 = path_to_tensor(input_image2)\n",
    "y_pred2 = model.predict(test2)\n",
    "\n",
    "# Print the prediction of both classes (Uninfected, Parasitized)\n",
    "print('    Uninfected  Parasitized\\n', y_pred2)\n",
    "\n",
    "# Print the infected percentage prediction\n",
    "infected_perc = round(y_pred2.tolist()[0][1] * 100, 2)\n",
    "print('\\nThe image is {}% predicted to be infected'.format(infected_perc))"
   ]
  },
  {
   "cell_type": "code",
   "execution_count": 7,
   "metadata": {},
   "outputs": [
    {
     "name": "stdout",
     "output_type": "stream",
     "text": [
      "    Uninfected  Parasitized\n",
      " [[ 0.99869907  0.00130086]]\n",
      "\n",
      "The image is 0.13% predicted to be infected\n"
     ]
    }
   ],
   "source": [
    "# Calculate prediction on the test 1\n",
    "test3 = path_to_tensor(input_image3)\n",
    "y_pred3 = model.predict(test3)\n",
    "\n",
    "# Print the prediction of both classes (Uninfected, Parasitized)\n",
    "print('    Uninfected  Parasitized\\n', y_pred3)\n",
    "\n",
    "# Print the infected percentage prediction\n",
    "infected_perc = round(y_pred3.tolist()[0][1] * 100, 2)\n",
    "print('\\nThe image is {}% predicted to be infected'.format(infected_perc))"
   ]
  },
  {
   "cell_type": "code",
   "execution_count": 8,
   "metadata": {},
   "outputs": [
    {
     "name": "stdout",
     "output_type": "stream",
     "text": [
      "    Uninfected  Parasitized\n",
      " [[ 0.97022086  0.02977921]]\n",
      "\n",
      "The image is 2.98% predicted to be infected\n"
     ]
    }
   ],
   "source": [
    "# Calculate prediction on the test 1\n",
    "test4 = path_to_tensor(input_image4)\n",
    "y_pred4 = model.predict(test4)\n",
    "\n",
    "# Print the prediction of both classes (Uninfected, Parasitized)\n",
    "print('    Uninfected  Parasitized\\n', y_pred4)\n",
    "\n",
    "# Print the infected percentage prediction\n",
    "infected_perc = round(y_pred4.tolist()[0][1] * 100, 2)\n",
    "print('\\nThe image is {}% predicted to be infected'.format(infected_perc))"
   ]
  },
  {
   "cell_type": "code",
   "execution_count": null,
   "metadata": {},
   "outputs": [],
   "source": []
  }
 ],
 "metadata": {
  "kernelspec": {
   "display_name": "Python 3",
   "language": "python",
   "name": "python3"
  },
  "language_info": {
   "codemirror_mode": {
    "name": "ipython",
    "version": 3
   },
   "file_extension": ".py",
   "mimetype": "text/x-python",
   "name": "python",
   "nbconvert_exporter": "python",
   "pygments_lexer": "ipython3",
   "version": "3.6.1"
  }
 },
 "nbformat": 4,
 "nbformat_minor": 2
}
